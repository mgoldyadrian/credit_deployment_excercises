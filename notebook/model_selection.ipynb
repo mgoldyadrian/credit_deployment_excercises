{
 "cells": [
  {
   "cell_type": "markdown",
   "metadata": {},
   "source": [
    "# Model Selection & Evaluation"
   ]
  },
  {
   "cell_type": "markdown",
   "metadata": {},
   "source": [
    "## Import Packages"
   ]
  },
  {
   "cell_type": "code",
   "execution_count": 1,
   "metadata": {},
   "outputs": [],
   "source": [
    "import numpy as np\n",
    "import pandas as pd\n",
    "import matplotlib.pyplot as plt \n",
    "import seaborn as sns\n",
    "\n",
    "from sklearn.preprocessing import OneHotEncoder, StandardScaler\n",
    "from sklearn.model_selection import train_test_split, GridSearchCV, KFold, StratifiedKFold, cross_val_score\n",
    "from sklearn.linear_model import LogisticRegression\n",
    "from sklearn.ensemble import RandomForestClassifier, ExtraTreesClassifier\n",
    "from xgboost import XGBClassifier\n",
    "from sklearn.feature_selection import SelectKBest, chi2\n",
    "from sklearn.metrics import roc_curve, auc, roc_auc_score, classification_report\n",
    "\n",
    "from sklearn.compose import ColumnTransformer\n",
    "from sklearn.impute import SimpleImputer\n",
    "from sklearn.utils.fixes import loguniform\n",
    "from sklearn.pipeline import Pipeline\n",
    "\n",
    "import warnings\n",
    "warnings.filterwarnings('ignore')"
   ]
  },
  {
   "cell_type": "code",
   "execution_count": 2,
   "metadata": {},
   "outputs": [],
   "source": [
    "pd.set_option('display.max_columns', None)\n",
    "pd.set_option('display.max_rows', None)"
   ]
  },
  {
   "cell_type": "markdown",
   "metadata": {},
   "source": [
    "## Load Dataset"
   ]
  },
  {
   "cell_type": "code",
   "execution_count": 3,
   "metadata": {},
   "outputs": [],
   "source": [
    "data = pd.read_csv('credit_risk_dataset.csv')"
   ]
  },
  {
   "cell_type": "code",
   "execution_count": 4,
   "metadata": {},
   "outputs": [
    {
     "data": {
      "text/html": [
       "<div>\n",
       "<style scoped>\n",
       "    .dataframe tbody tr th:only-of-type {\n",
       "        vertical-align: middle;\n",
       "    }\n",
       "\n",
       "    .dataframe tbody tr th {\n",
       "        vertical-align: top;\n",
       "    }\n",
       "\n",
       "    .dataframe thead th {\n",
       "        text-align: right;\n",
       "    }\n",
       "</style>\n",
       "<table border=\"1\" class=\"dataframe\">\n",
       "  <thead>\n",
       "    <tr style=\"text-align: right;\">\n",
       "      <th></th>\n",
       "      <th>person_age</th>\n",
       "      <th>person_income</th>\n",
       "      <th>person_home_ownership</th>\n",
       "      <th>person_emp_length</th>\n",
       "      <th>loan_intent</th>\n",
       "      <th>loan_grade</th>\n",
       "      <th>loan_amnt</th>\n",
       "      <th>loan_int_rate</th>\n",
       "      <th>loan_status</th>\n",
       "      <th>loan_percent_income</th>\n",
       "      <th>cb_person_default_on_file</th>\n",
       "      <th>cb_person_cred_hist_length</th>\n",
       "    </tr>\n",
       "  </thead>\n",
       "  <tbody>\n",
       "    <tr>\n",
       "      <th>0</th>\n",
       "      <td>22</td>\n",
       "      <td>59000</td>\n",
       "      <td>RENT</td>\n",
       "      <td>123.0</td>\n",
       "      <td>PERSONAL</td>\n",
       "      <td>D</td>\n",
       "      <td>35000</td>\n",
       "      <td>16.02</td>\n",
       "      <td>1</td>\n",
       "      <td>0.59</td>\n",
       "      <td>Y</td>\n",
       "      <td>3</td>\n",
       "    </tr>\n",
       "    <tr>\n",
       "      <th>1</th>\n",
       "      <td>21</td>\n",
       "      <td>9600</td>\n",
       "      <td>OWN</td>\n",
       "      <td>5.0</td>\n",
       "      <td>EDUCATION</td>\n",
       "      <td>B</td>\n",
       "      <td>1000</td>\n",
       "      <td>11.14</td>\n",
       "      <td>0</td>\n",
       "      <td>0.10</td>\n",
       "      <td>N</td>\n",
       "      <td>2</td>\n",
       "    </tr>\n",
       "    <tr>\n",
       "      <th>2</th>\n",
       "      <td>25</td>\n",
       "      <td>9600</td>\n",
       "      <td>MORTGAGE</td>\n",
       "      <td>1.0</td>\n",
       "      <td>MEDICAL</td>\n",
       "      <td>C</td>\n",
       "      <td>5500</td>\n",
       "      <td>12.87</td>\n",
       "      <td>1</td>\n",
       "      <td>0.57</td>\n",
       "      <td>N</td>\n",
       "      <td>3</td>\n",
       "    </tr>\n",
       "    <tr>\n",
       "      <th>3</th>\n",
       "      <td>23</td>\n",
       "      <td>65500</td>\n",
       "      <td>RENT</td>\n",
       "      <td>4.0</td>\n",
       "      <td>MEDICAL</td>\n",
       "      <td>C</td>\n",
       "      <td>35000</td>\n",
       "      <td>15.23</td>\n",
       "      <td>1</td>\n",
       "      <td>0.53</td>\n",
       "      <td>N</td>\n",
       "      <td>2</td>\n",
       "    </tr>\n",
       "    <tr>\n",
       "      <th>4</th>\n",
       "      <td>24</td>\n",
       "      <td>54400</td>\n",
       "      <td>RENT</td>\n",
       "      <td>8.0</td>\n",
       "      <td>MEDICAL</td>\n",
       "      <td>C</td>\n",
       "      <td>35000</td>\n",
       "      <td>14.27</td>\n",
       "      <td>1</td>\n",
       "      <td>0.55</td>\n",
       "      <td>Y</td>\n",
       "      <td>4</td>\n",
       "    </tr>\n",
       "  </tbody>\n",
       "</table>\n",
       "</div>"
      ],
      "text/plain": [
       "   person_age  person_income person_home_ownership  person_emp_length  \\\n",
       "0          22          59000                  RENT              123.0   \n",
       "1          21           9600                   OWN                5.0   \n",
       "2          25           9600              MORTGAGE                1.0   \n",
       "3          23          65500                  RENT                4.0   \n",
       "4          24          54400                  RENT                8.0   \n",
       "\n",
       "  loan_intent loan_grade  loan_amnt  loan_int_rate  loan_status  \\\n",
       "0    PERSONAL          D      35000          16.02            1   \n",
       "1   EDUCATION          B       1000          11.14            0   \n",
       "2     MEDICAL          C       5500          12.87            1   \n",
       "3     MEDICAL          C      35000          15.23            1   \n",
       "4     MEDICAL          C      35000          14.27            1   \n",
       "\n",
       "   loan_percent_income cb_person_default_on_file  cb_person_cred_hist_length  \n",
       "0                 0.59                         Y                           3  \n",
       "1                 0.10                         N                           2  \n",
       "2                 0.57                         N                           3  \n",
       "3                 0.53                         N                           2  \n",
       "4                 0.55                         Y                           4  "
      ]
     },
     "execution_count": 4,
     "metadata": {},
     "output_type": "execute_result"
    }
   ],
   "source": [
    "data.head()"
   ]
  },
  {
   "cell_type": "code",
   "execution_count": 5,
   "metadata": {},
   "outputs": [
    {
     "data": {
      "text/plain": [
       "(32581, 12)"
      ]
     },
     "execution_count": 5,
     "metadata": {},
     "output_type": "execute_result"
    }
   ],
   "source": [
    "data.shape"
   ]
  },
  {
   "cell_type": "code",
   "execution_count": 6,
   "metadata": {},
   "outputs": [
    {
     "data": {
      "text/plain": [
       "person_age                      int64\n",
       "person_income                   int64\n",
       "person_home_ownership          object\n",
       "person_emp_length             float64\n",
       "loan_intent                    object\n",
       "loan_grade                     object\n",
       "loan_amnt                       int64\n",
       "loan_int_rate                 float64\n",
       "loan_status                     int64\n",
       "loan_percent_income           float64\n",
       "cb_person_default_on_file      object\n",
       "cb_person_cred_hist_length      int64\n",
       "dtype: object"
      ]
     },
     "execution_count": 6,
     "metadata": {},
     "output_type": "execute_result"
    }
   ],
   "source": [
    "data.dtypes"
   ]
  },
  {
   "cell_type": "code",
   "execution_count": 7,
   "metadata": {},
   "outputs": [],
   "source": [
    "y = data['loan_status'].copy()\n",
    "X = data.drop(columns='loan_status').copy()"
   ]
  },
  {
   "cell_type": "code",
   "execution_count": 8,
   "metadata": {},
   "outputs": [
    {
     "name": "stdout",
     "output_type": "stream",
     "text": [
      "Total numerical columns : 7\n",
      "Total categorical columns : 4\n"
     ]
    }
   ],
   "source": [
    "num_columns = X.select_dtypes(include='number').columns.tolist()\n",
    "cat_columns = X.select_dtypes(include='object').columns.tolist()\n",
    "\n",
    "print(\"Total numerical columns :\", len(num_columns))\n",
    "print(\"Total categorical columns :\", len(cat_columns))"
   ]
  },
  {
   "cell_type": "code",
   "execution_count": 9,
   "metadata": {},
   "outputs": [],
   "source": [
    "num_idx = [X.columns.get_loc(c) for c in num_columns]\n",
    "cat_idx = [X.columns.get_loc(c) for c in cat_columns]"
   ]
  },
  {
   "cell_type": "code",
   "execution_count": 10,
   "metadata": {},
   "outputs": [
    {
     "data": {
      "text/plain": [
       "Index(['person_age', 'person_income', 'person_emp_length', 'loan_amnt',\n",
       "       'loan_int_rate', 'loan_percent_income', 'cb_person_cred_hist_length'],\n",
       "      dtype='object')"
      ]
     },
     "execution_count": 10,
     "metadata": {},
     "output_type": "execute_result"
    }
   ],
   "source": [
    "X.columns[num_idx]"
   ]
  },
  {
   "cell_type": "code",
   "execution_count": 11,
   "metadata": {},
   "outputs": [
    {
     "data": {
      "text/plain": [
       "Index(['person_home_ownership', 'loan_intent', 'loan_grade',\n",
       "       'cb_person_default_on_file'],\n",
       "      dtype='object')"
      ]
     },
     "execution_count": 11,
     "metadata": {},
     "output_type": "execute_result"
    }
   ],
   "source": [
    "X.columns[cat_idx]"
   ]
  },
  {
   "cell_type": "markdown",
   "metadata": {},
   "source": [
    "### Simple Statistics"
   ]
  },
  {
   "cell_type": "code",
   "execution_count": 12,
   "metadata": {},
   "outputs": [
    {
     "data": {
      "text/html": [
       "<div>\n",
       "<style scoped>\n",
       "    .dataframe tbody tr th:only-of-type {\n",
       "        vertical-align: middle;\n",
       "    }\n",
       "\n",
       "    .dataframe tbody tr th {\n",
       "        vertical-align: top;\n",
       "    }\n",
       "\n",
       "    .dataframe thead th {\n",
       "        text-align: right;\n",
       "    }\n",
       "</style>\n",
       "<table border=\"1\" class=\"dataframe\">\n",
       "  <thead>\n",
       "    <tr style=\"text-align: right;\">\n",
       "      <th></th>\n",
       "      <th>count</th>\n",
       "      <th>mean</th>\n",
       "      <th>std</th>\n",
       "      <th>min</th>\n",
       "      <th>25%</th>\n",
       "      <th>50%</th>\n",
       "      <th>75%</th>\n",
       "      <th>max</th>\n",
       "    </tr>\n",
       "  </thead>\n",
       "  <tbody>\n",
       "    <tr>\n",
       "      <th>person_age</th>\n",
       "      <td>32581.0</td>\n",
       "      <td>27.734600</td>\n",
       "      <td>6.348078</td>\n",
       "      <td>20.00</td>\n",
       "      <td>23.00</td>\n",
       "      <td>26.00</td>\n",
       "      <td>30.00</td>\n",
       "      <td>144.00</td>\n",
       "    </tr>\n",
       "    <tr>\n",
       "      <th>person_income</th>\n",
       "      <td>32581.0</td>\n",
       "      <td>66074.848470</td>\n",
       "      <td>61983.119168</td>\n",
       "      <td>4000.00</td>\n",
       "      <td>38500.00</td>\n",
       "      <td>55000.00</td>\n",
       "      <td>79200.00</td>\n",
       "      <td>6000000.00</td>\n",
       "    </tr>\n",
       "    <tr>\n",
       "      <th>person_emp_length</th>\n",
       "      <td>31686.0</td>\n",
       "      <td>4.789686</td>\n",
       "      <td>4.142630</td>\n",
       "      <td>0.00</td>\n",
       "      <td>2.00</td>\n",
       "      <td>4.00</td>\n",
       "      <td>7.00</td>\n",
       "      <td>123.00</td>\n",
       "    </tr>\n",
       "    <tr>\n",
       "      <th>loan_amnt</th>\n",
       "      <td>32581.0</td>\n",
       "      <td>9589.371106</td>\n",
       "      <td>6322.086646</td>\n",
       "      <td>500.00</td>\n",
       "      <td>5000.00</td>\n",
       "      <td>8000.00</td>\n",
       "      <td>12200.00</td>\n",
       "      <td>35000.00</td>\n",
       "    </tr>\n",
       "    <tr>\n",
       "      <th>loan_int_rate</th>\n",
       "      <td>29465.0</td>\n",
       "      <td>11.011695</td>\n",
       "      <td>3.240459</td>\n",
       "      <td>5.42</td>\n",
       "      <td>7.90</td>\n",
       "      <td>10.99</td>\n",
       "      <td>13.47</td>\n",
       "      <td>23.22</td>\n",
       "    </tr>\n",
       "    <tr>\n",
       "      <th>loan_percent_income</th>\n",
       "      <td>32581.0</td>\n",
       "      <td>0.170203</td>\n",
       "      <td>0.106782</td>\n",
       "      <td>0.00</td>\n",
       "      <td>0.09</td>\n",
       "      <td>0.15</td>\n",
       "      <td>0.23</td>\n",
       "      <td>0.83</td>\n",
       "    </tr>\n",
       "    <tr>\n",
       "      <th>cb_person_cred_hist_length</th>\n",
       "      <td>32581.0</td>\n",
       "      <td>5.804211</td>\n",
       "      <td>4.055001</td>\n",
       "      <td>2.00</td>\n",
       "      <td>3.00</td>\n",
       "      <td>4.00</td>\n",
       "      <td>8.00</td>\n",
       "      <td>30.00</td>\n",
       "    </tr>\n",
       "  </tbody>\n",
       "</table>\n",
       "</div>"
      ],
      "text/plain": [
       "                              count          mean           std      min  \\\n",
       "person_age                  32581.0     27.734600      6.348078    20.00   \n",
       "person_income               32581.0  66074.848470  61983.119168  4000.00   \n",
       "person_emp_length           31686.0      4.789686      4.142630     0.00   \n",
       "loan_amnt                   32581.0   9589.371106   6322.086646   500.00   \n",
       "loan_int_rate               29465.0     11.011695      3.240459     5.42   \n",
       "loan_percent_income         32581.0      0.170203      0.106782     0.00   \n",
       "cb_person_cred_hist_length  32581.0      5.804211      4.055001     2.00   \n",
       "\n",
       "                                 25%       50%       75%         max  \n",
       "person_age                     23.00     26.00     30.00      144.00  \n",
       "person_income               38500.00  55000.00  79200.00  6000000.00  \n",
       "person_emp_length               2.00      4.00      7.00      123.00  \n",
       "loan_amnt                    5000.00   8000.00  12200.00    35000.00  \n",
       "loan_int_rate                   7.90     10.99     13.47       23.22  \n",
       "loan_percent_income             0.09      0.15      0.23        0.83  \n",
       "cb_person_cred_hist_length      3.00      4.00      8.00       30.00  "
      ]
     },
     "execution_count": 12,
     "metadata": {},
     "output_type": "execute_result"
    }
   ],
   "source": [
    "X.describe(include='number').T"
   ]
  },
  {
   "cell_type": "code",
   "execution_count": 13,
   "metadata": {},
   "outputs": [
    {
     "data": {
      "text/html": [
       "<div>\n",
       "<style scoped>\n",
       "    .dataframe tbody tr th:only-of-type {\n",
       "        vertical-align: middle;\n",
       "    }\n",
       "\n",
       "    .dataframe tbody tr th {\n",
       "        vertical-align: top;\n",
       "    }\n",
       "\n",
       "    .dataframe thead th {\n",
       "        text-align: right;\n",
       "    }\n",
       "</style>\n",
       "<table border=\"1\" class=\"dataframe\">\n",
       "  <thead>\n",
       "    <tr style=\"text-align: right;\">\n",
       "      <th></th>\n",
       "      <th>count</th>\n",
       "      <th>unique</th>\n",
       "      <th>top</th>\n",
       "      <th>freq</th>\n",
       "    </tr>\n",
       "  </thead>\n",
       "  <tbody>\n",
       "    <tr>\n",
       "      <th>person_home_ownership</th>\n",
       "      <td>32581</td>\n",
       "      <td>4</td>\n",
       "      <td>RENT</td>\n",
       "      <td>16446</td>\n",
       "    </tr>\n",
       "    <tr>\n",
       "      <th>loan_intent</th>\n",
       "      <td>32581</td>\n",
       "      <td>6</td>\n",
       "      <td>EDUCATION</td>\n",
       "      <td>6453</td>\n",
       "    </tr>\n",
       "    <tr>\n",
       "      <th>loan_grade</th>\n",
       "      <td>32581</td>\n",
       "      <td>7</td>\n",
       "      <td>A</td>\n",
       "      <td>10777</td>\n",
       "    </tr>\n",
       "    <tr>\n",
       "      <th>cb_person_default_on_file</th>\n",
       "      <td>32581</td>\n",
       "      <td>2</td>\n",
       "      <td>N</td>\n",
       "      <td>26836</td>\n",
       "    </tr>\n",
       "  </tbody>\n",
       "</table>\n",
       "</div>"
      ],
      "text/plain": [
       "                           count unique        top   freq\n",
       "person_home_ownership      32581      4       RENT  16446\n",
       "loan_intent                32581      6  EDUCATION   6453\n",
       "loan_grade                 32581      7          A  10777\n",
       "cb_person_default_on_file  32581      2          N  26836"
      ]
     },
     "execution_count": 13,
     "metadata": {},
     "output_type": "execute_result"
    }
   ],
   "source": [
    "X.describe(include='object').T"
   ]
  },
  {
   "cell_type": "markdown",
   "metadata": {},
   "source": [
    "### Check missing value"
   ]
  },
  {
   "cell_type": "code",
   "execution_count": 14,
   "metadata": {
    "scrolled": true
   },
   "outputs": [
    {
     "data": {
      "text/plain": [
       "person_age                       0\n",
       "person_income                    0\n",
       "person_home_ownership            0\n",
       "person_emp_length              895\n",
       "loan_intent                      0\n",
       "loan_grade                       0\n",
       "loan_amnt                        0\n",
       "loan_int_rate                 3116\n",
       "loan_percent_income              0\n",
       "cb_person_default_on_file        0\n",
       "cb_person_cred_hist_length       0\n",
       "dtype: int64"
      ]
     },
     "execution_count": 14,
     "metadata": {},
     "output_type": "execute_result"
    }
   ],
   "source": [
    "X.isna().sum()"
   ]
  },
  {
   "cell_type": "markdown",
   "metadata": {},
   "source": [
    "### Fill Missing Values"
   ]
  },
  {
   "cell_type": "markdown",
   "metadata": {},
   "source": [
    "The missing value in the feature **loan interest rate** is filled in using the mean of each grade in the feature **loan grade**, because the better the loan grade value (A > B > C > D > E > F > G) the smaller the interest rate will be. It can be seen in the pivot table below:"
   ]
  },
  {
   "cell_type": "code",
   "execution_count": 15,
   "metadata": {},
   "outputs": [
    {
     "data": {
      "text/html": [
       "<div>\n",
       "<style scoped>\n",
       "    .dataframe tbody tr th:only-of-type {\n",
       "        vertical-align: middle;\n",
       "    }\n",
       "\n",
       "    .dataframe tbody tr th {\n",
       "        vertical-align: top;\n",
       "    }\n",
       "\n",
       "    .dataframe thead th {\n",
       "        text-align: right;\n",
       "    }\n",
       "</style>\n",
       "<table border=\"1\" class=\"dataframe\">\n",
       "  <thead>\n",
       "    <tr style=\"text-align: right;\">\n",
       "      <th></th>\n",
       "      <th>loan_int_rate</th>\n",
       "    </tr>\n",
       "    <tr>\n",
       "      <th>loan_grade</th>\n",
       "      <th></th>\n",
       "    </tr>\n",
       "  </thead>\n",
       "  <tbody>\n",
       "    <tr>\n",
       "      <th>A</th>\n",
       "      <td>7.33</td>\n",
       "    </tr>\n",
       "    <tr>\n",
       "      <th>B</th>\n",
       "      <td>11.00</td>\n",
       "    </tr>\n",
       "    <tr>\n",
       "      <th>C</th>\n",
       "      <td>13.46</td>\n",
       "    </tr>\n",
       "    <tr>\n",
       "      <th>D</th>\n",
       "      <td>15.36</td>\n",
       "    </tr>\n",
       "    <tr>\n",
       "      <th>E</th>\n",
       "      <td>17.01</td>\n",
       "    </tr>\n",
       "    <tr>\n",
       "      <th>F</th>\n",
       "      <td>18.61</td>\n",
       "    </tr>\n",
       "    <tr>\n",
       "      <th>G</th>\n",
       "      <td>20.25</td>\n",
       "    </tr>\n",
       "  </tbody>\n",
       "</table>\n",
       "</div>"
      ],
      "text/plain": [
       "            loan_int_rate\n",
       "loan_grade               \n",
       "A                    7.33\n",
       "B                   11.00\n",
       "C                   13.46\n",
       "D                   15.36\n",
       "E                   17.01\n",
       "F                   18.61\n",
       "G                   20.25"
      ]
     },
     "execution_count": 15,
     "metadata": {},
     "output_type": "execute_result"
    }
   ],
   "source": [
    "# Create pivot table feature loan_grade with mean loan_int_rate\n",
    "table = pd.pivot_table(X, index=['loan_grade'], values=['loan_int_rate'], aggfunc='mean')\n",
    "table['loan_int_rate'] = table['loan_int_rate'].round(decimals=2)\n",
    "table"
   ]
  },
  {
   "cell_type": "code",
   "execution_count": 16,
   "metadata": {},
   "outputs": [],
   "source": [
    "# Fill missing value from 'loan_intention_rate' feature\n",
    "X['loan_int_rate'] = X['loan_int_rate'].mask(X['loan_grade'] == 'A', X['loan_int_rate'].fillna(7.33))\n",
    "X['loan_int_rate'] = X['loan_int_rate'].mask(X['loan_grade'] == 'B', X['loan_int_rate'].fillna(11.00))\n",
    "X['loan_int_rate'] = X['loan_int_rate'].mask(X['loan_grade'] == 'C', X['loan_int_rate'].fillna(13.46))\n",
    "X['loan_int_rate'] = X['loan_int_rate'].mask(X['loan_grade'] == 'D', X['loan_int_rate'].fillna(15.36))\n",
    "X['loan_int_rate'] = X['loan_int_rate'].mask(X['loan_grade'] == 'E', X['loan_int_rate'].fillna(17.01))\n",
    "X['loan_int_rate'] = X['loan_int_rate'].mask(X['loan_grade'] == 'F', X['loan_int_rate'].fillna(18.26))\n",
    "X['loan_int_rate'] = X['loan_int_rate'].mask(X['loan_grade'] == 'G', X['loan_int_rate'].fillna(20.25))"
   ]
  },
  {
   "cell_type": "code",
   "execution_count": 17,
   "metadata": {},
   "outputs": [],
   "source": [
    "# Fill missing value from 'person_emp_length' feature\n",
    "X['person_emp_length'] = X['person_emp_length'].fillna(X['person_emp_length'].median())"
   ]
  },
  {
   "cell_type": "markdown",
   "metadata": {},
   "source": [
    "## Correlated Features"
   ]
  },
  {
   "cell_type": "code",
   "execution_count": 18,
   "metadata": {},
   "outputs": [],
   "source": [
    "def plot_correlation(data):\n",
    "    corr = data.corr()\n",
    "    mask = np.triu(np.ones_like(corr, dtype=bool))\n",
    "\n",
    "    fig = plt.figure(figsize=(10, 10))\n",
    "\n",
    "    ax = sns.heatmap(\n",
    "        corr, \n",
    "        mask=mask,\n",
    "        vmin=-1, vmax=1, center=0,\n",
    "        cmap='coolwarm',\n",
    "        square=True,\n",
    "        linewidths=0.3,\n",
    "        annot=True,\n",
    "        fmt=\".2f\",\n",
    "        annot_kws={\"size\": 8},\n",
    "        cbar_kws={\"shrink\": .5}\n",
    "    )\n",
    "\n",
    "    ax.set_xticklabels(\n",
    "        ax.get_xticklabels(),\n",
    "        rotation=45,\n",
    "        horizontalalignment='right'\n",
    "    )\n",
    "\n",
    "    ax.set_title(\"Correlation\", size=14)\n",
    "\n",
    "    plt.show()"
   ]
  },
  {
   "cell_type": "code",
   "execution_count": 19,
   "metadata": {},
   "outputs": [
    {
     "data": {
      "image/png": "[encoded data removed]",
      "text/plain": [
       "<Figure size 720x720 with 2 Axes>"
      ]
     },
     "metadata": {
      "needs_background": "light"
     },
     "output_type": "display_data"
    }
   ],
   "source": [
    "plot_correlation(X[num_columns])"
   ]
  },
  {
   "cell_type": "markdown",
   "metadata": {},
   "source": [
    "## Data Splitting"
   ]
  },
  {
   "cell_type": "code",
   "execution_count": 20,
   "metadata": {},
   "outputs": [
    {
     "name": "stdout",
     "output_type": "stream",
     "text": [
      "Number of Train : 22806 70.0%\n",
      "Number of Test : 9775 30.0%\n"
     ]
    }
   ],
   "source": [
    "SEED = 42\n",
    "\n",
    "X_train, X_test, y_train, y_test = train_test_split(X, y, test_size=0.3, random_state=SEED)\n",
    "\n",
    "print(\"Number of Train :\", len(y_train), f\"{round(len(y_train) / len(y) * 100, 2)}%\")\n",
    "print(\"Number of Test :\", len(y_test), f\"{round(len(y_test) / len(y) * 100, 2)}%\")"
   ]
  },
  {
   "cell_type": "code",
   "execution_count": 21,
   "metadata": {},
   "outputs": [
    {
     "name": "stdout",
     "output_type": "stream",
     "text": [
      "Percentage of target in Train : 0.216872752784355\n",
      "Percentage of target in Test : 0.2211764705882353\n"
     ]
    }
   ],
   "source": [
    "print(\"Percentage of target in Train :\", np.mean(y_train))\n",
    "print(\"Percentage of target in Test :\", np.mean(y_test))"
   ]
  },
  {
   "cell_type": "code",
   "execution_count": null,
   "metadata": {},
   "outputs": [],
   "source": [
    "# Save to csv\n",
    "\n",
    "# X_train.to_csv('X_train.csv')\n",
    "# y_train.to_csv('y_train.csv')\n",
    "# X_test.to_csv('X_test.csv')\n",
    "# y_test.to_csv('y_test.csv')"
   ]
  },
  {
   "cell_type": "code",
   "execution_count": 22,
   "metadata": {},
   "outputs": [
    {
     "data": {
      "text/plain": [
       "[{'person_age': 29,\n",
       "  'person_income': 120000,\n",
       "  'person_home_ownership': 'MORTGAGE',\n",
       "  'person_emp_length': 7.0,\n",
       "  'loan_intent': 'DEBTCONSOLIDATION',\n",
       "  'loan_grade': 'B',\n",
       "  'loan_amnt': 20000,\n",
       "  'loan_int_rate': 12.42,\n",
       "  'loan_percent_income': 0.17,\n",
       "  'cb_person_default_on_file': 'N',\n",
       "  'cb_person_cred_hist_length': 6}]"
      ]
     },
     "execution_count": 22,
     "metadata": {},
     "output_type": "execute_result"
    }
   ],
   "source": [
    "# X_train.sample(1).to_dict(orient='records')"
   ]
  },
  {
   "cell_type": "markdown",
   "metadata": {},
   "source": [
    "### Data Preprocess"
   ]
  },
  {
   "cell_type": "markdown",
   "metadata": {},
   "source": [
    "Distinguish numerical and categorical variable since it will have a different approach of preprocessing"
   ]
  },
  {
   "cell_type": "code",
   "execution_count": 23,
   "metadata": {},
   "outputs": [],
   "source": [
    "def get_data_by_types(X_train, X_test):\n",
    "    X_train_num, X_train_cat = X_train[num_columns], X_train[cat_columns]\n",
    "    X_test_num, X_test_cat = X_test[num_columns], X_test[cat_columns]\n",
    "    return X_train_num, X_train_cat, X_test_num, X_test_cat"
   ]
  },
  {
   "cell_type": "code",
   "execution_count": 24,
   "metadata": {},
   "outputs": [],
   "source": [
    "X_train_num, X_train_cat, X_test_num, X_test_cat = get_data_by_types(X_train, X_test)"
   ]
  },
  {
   "cell_type": "markdown",
   "metadata": {},
   "source": [
    "#### Categorical Variable"
   ]
  },
  {
   "cell_type": "markdown",
   "metadata": {},
   "source": [
    "Because most of the features are categorical, therefore the categorical features must first be converted to numerical so that they can be processed by machine learning."
   ]
  },
  {
   "cell_type": "code",
   "execution_count": 25,
   "metadata": {},
   "outputs": [],
   "source": [
    "ohe = OneHotEncoder()\n",
    "ohe.fit(X_train_cat)\n",
    "\n",
    "X_train_cat = ohe.transform(X_train_cat).toarray()\n",
    "X_test_cat = ohe.transform(X_test_cat).toarray()"
   ]
  },
  {
   "cell_type": "code",
   "execution_count": 26,
   "metadata": {},
   "outputs": [],
   "source": [
    "X_train_cat = pd.DataFrame(X_train_cat, columns=ohe.get_feature_names(cat_columns), index=X_train.index)\n",
    "X_test_cat = pd.DataFrame(X_test_cat, columns=ohe.get_feature_names(cat_columns), index=X_test.index)"
   ]
  },
  {
   "cell_type": "markdown",
   "metadata": {},
   "source": [
    "#### Numerical Variable"
   ]
  },
  {
   "cell_type": "code",
   "execution_count": null,
   "metadata": {},
   "outputs": [],
   "source": [
    "# sc = StandardScaler()\n",
    "# sc.fit(X_train.loc[:, num_columns])"
   ]
  },
  {
   "cell_type": "code",
   "execution_count": null,
   "metadata": {},
   "outputs": [],
   "source": [
    "# X_train_num = sc.transform(X_train[num_columns])\n",
    "# X_test_num = sc.transform(X_test[num_columns])"
   ]
  },
  {
   "cell_type": "code",
   "execution_count": null,
   "metadata": {},
   "outputs": [],
   "source": [
    "# X_train_num = pd.DataFrame(X_train_num, columns=num_columns)\n",
    "# X_test_num = pd.DataFrame(X_test_num, columns=num_columns)"
   ]
  },
  {
   "cell_type": "code",
   "execution_count": 27,
   "metadata": {},
   "outputs": [],
   "source": [
    "X_train_trans = X_train_num.join(X_train_cat)\n",
    "X_test_trans = X_test_num.join(X_test_cat)"
   ]
  },
  {
   "cell_type": "code",
   "execution_count": 28,
   "metadata": {},
   "outputs": [
    {
     "data": {
      "text/html": [
       "<div>\n",
       "<style scoped>\n",
       "    .dataframe tbody tr th:only-of-type {\n",
       "        vertical-align: middle;\n",
       "    }\n",
       "\n",
       "    .dataframe tbody tr th {\n",
       "        vertical-align: top;\n",
       "    }\n",
       "\n",
       "    .dataframe thead th {\n",
       "        text-align: right;\n",
       "    }\n",
       "</style>\n",
       "<table border=\"1\" class=\"dataframe\">\n",
       "  <thead>\n",
       "    <tr style=\"text-align: right;\">\n",
       "      <th></th>\n",
       "      <th>person_age</th>\n",
       "      <th>person_income</th>\n",
       "      <th>person_emp_length</th>\n",
       "      <th>loan_amnt</th>\n",
       "      <th>loan_int_rate</th>\n",
       "      <th>loan_percent_income</th>\n",
       "      <th>cb_person_cred_hist_length</th>\n",
       "      <th>person_home_ownership_MORTGAGE</th>\n",
       "      <th>person_home_ownership_OTHER</th>\n",
       "      <th>person_home_ownership_OWN</th>\n",
       "      <th>person_home_ownership_RENT</th>\n",
       "      <th>loan_intent_DEBTCONSOLIDATION</th>\n",
       "      <th>loan_intent_EDUCATION</th>\n",
       "      <th>loan_intent_HOMEIMPROVEMENT</th>\n",
       "      <th>loan_intent_MEDICAL</th>\n",
       "      <th>loan_intent_PERSONAL</th>\n",
       "      <th>loan_intent_VENTURE</th>\n",
       "      <th>loan_grade_A</th>\n",
       "      <th>loan_grade_B</th>\n",
       "      <th>loan_grade_C</th>\n",
       "      <th>loan_grade_D</th>\n",
       "      <th>loan_grade_E</th>\n",
       "      <th>loan_grade_F</th>\n",
       "      <th>loan_grade_G</th>\n",
       "      <th>cb_person_default_on_file_N</th>\n",
       "      <th>cb_person_default_on_file_Y</th>\n",
       "    </tr>\n",
       "  </thead>\n",
       "  <tbody>\n",
       "    <tr>\n",
       "      <th>12657</th>\n",
       "      <td>25</td>\n",
       "      <td>66300</td>\n",
       "      <td>9.0</td>\n",
       "      <td>1700</td>\n",
       "      <td>6.76</td>\n",
       "      <td>0.02</td>\n",
       "      <td>4</td>\n",
       "      <td>1.0</td>\n",
       "      <td>0.0</td>\n",
       "      <td>0.0</td>\n",
       "      <td>0.0</td>\n",
       "      <td>0.0</td>\n",
       "      <td>0.0</td>\n",
       "      <td>0.0</td>\n",
       "      <td>1.0</td>\n",
       "      <td>0.0</td>\n",
       "      <td>0.0</td>\n",
       "      <td>1.0</td>\n",
       "      <td>0.0</td>\n",
       "      <td>0.0</td>\n",
       "      <td>0.0</td>\n",
       "      <td>0.0</td>\n",
       "      <td>0.0</td>\n",
       "      <td>0.0</td>\n",
       "      <td>1.0</td>\n",
       "      <td>0.0</td>\n",
       "    </tr>\n",
       "    <tr>\n",
       "      <th>11611</th>\n",
       "      <td>22</td>\n",
       "      <td>75000</td>\n",
       "      <td>6.0</td>\n",
       "      <td>25000</td>\n",
       "      <td>9.25</td>\n",
       "      <td>0.33</td>\n",
       "      <td>2</td>\n",
       "      <td>1.0</td>\n",
       "      <td>0.0</td>\n",
       "      <td>0.0</td>\n",
       "      <td>0.0</td>\n",
       "      <td>0.0</td>\n",
       "      <td>0.0</td>\n",
       "      <td>0.0</td>\n",
       "      <td>1.0</td>\n",
       "      <td>0.0</td>\n",
       "      <td>0.0</td>\n",
       "      <td>0.0</td>\n",
       "      <td>1.0</td>\n",
       "      <td>0.0</td>\n",
       "      <td>0.0</td>\n",
       "      <td>0.0</td>\n",
       "      <td>0.0</td>\n",
       "      <td>0.0</td>\n",
       "      <td>1.0</td>\n",
       "      <td>0.0</td>\n",
       "    </tr>\n",
       "    <tr>\n",
       "      <th>18223</th>\n",
       "      <td>31</td>\n",
       "      <td>105400</td>\n",
       "      <td>2.0</td>\n",
       "      <td>24250</td>\n",
       "      <td>15.31</td>\n",
       "      <td>0.20</td>\n",
       "      <td>5</td>\n",
       "      <td>0.0</td>\n",
       "      <td>0.0</td>\n",
       "      <td>0.0</td>\n",
       "      <td>1.0</td>\n",
       "      <td>0.0</td>\n",
       "      <td>0.0</td>\n",
       "      <td>0.0</td>\n",
       "      <td>1.0</td>\n",
       "      <td>0.0</td>\n",
       "      <td>0.0</td>\n",
       "      <td>0.0</td>\n",
       "      <td>0.0</td>\n",
       "      <td>0.0</td>\n",
       "      <td>1.0</td>\n",
       "      <td>0.0</td>\n",
       "      <td>0.0</td>\n",
       "      <td>0.0</td>\n",
       "      <td>1.0</td>\n",
       "      <td>0.0</td>\n",
       "    </tr>\n",
       "    <tr>\n",
       "      <th>24772</th>\n",
       "      <td>35</td>\n",
       "      <td>75000</td>\n",
       "      <td>5.0</td>\n",
       "      <td>5000</td>\n",
       "      <td>8.70</td>\n",
       "      <td>0.07</td>\n",
       "      <td>9</td>\n",
       "      <td>1.0</td>\n",
       "      <td>0.0</td>\n",
       "      <td>0.0</td>\n",
       "      <td>0.0</td>\n",
       "      <td>0.0</td>\n",
       "      <td>0.0</td>\n",
       "      <td>0.0</td>\n",
       "      <td>0.0</td>\n",
       "      <td>1.0</td>\n",
       "      <td>0.0</td>\n",
       "      <td>0.0</td>\n",
       "      <td>1.0</td>\n",
       "      <td>0.0</td>\n",
       "      <td>0.0</td>\n",
       "      <td>0.0</td>\n",
       "      <td>0.0</td>\n",
       "      <td>0.0</td>\n",
       "      <td>1.0</td>\n",
       "      <td>0.0</td>\n",
       "    </tr>\n",
       "    <tr>\n",
       "      <th>30770</th>\n",
       "      <td>36</td>\n",
       "      <td>65000</td>\n",
       "      <td>6.0</td>\n",
       "      <td>23325</td>\n",
       "      <td>15.27</td>\n",
       "      <td>0.36</td>\n",
       "      <td>14</td>\n",
       "      <td>1.0</td>\n",
       "      <td>0.0</td>\n",
       "      <td>0.0</td>\n",
       "      <td>0.0</td>\n",
       "      <td>0.0</td>\n",
       "      <td>1.0</td>\n",
       "      <td>0.0</td>\n",
       "      <td>0.0</td>\n",
       "      <td>0.0</td>\n",
       "      <td>0.0</td>\n",
       "      <td>0.0</td>\n",
       "      <td>0.0</td>\n",
       "      <td>1.0</td>\n",
       "      <td>0.0</td>\n",
       "      <td>0.0</td>\n",
       "      <td>0.0</td>\n",
       "      <td>0.0</td>\n",
       "      <td>0.0</td>\n",
       "      <td>1.0</td>\n",
       "    </tr>\n",
       "  </tbody>\n",
       "</table>\n",
       "</div>"
      ],
      "text/plain": [
       "       person_age  person_income  person_emp_length  loan_amnt  loan_int_rate  \\\n",
       "12657          25          66300                9.0       1700           6.76   \n",
       "11611          22          75000                6.0      25000           9.25   \n",
       "18223          31         105400                2.0      24250          15.31   \n",
       "24772          35          75000                5.0       5000           8.70   \n",
       "30770          36          65000                6.0      23325          15.27   \n",
       "\n",
       "       loan_percent_income  cb_person_cred_hist_length  \\\n",
       "12657                 0.02                           4   \n",
       "11611                 0.33                           2   \n",
       "18223                 0.20                           5   \n",
       "24772                 0.07                           9   \n",
       "30770                 0.36                          14   \n",
       "\n",
       "       person_home_ownership_MORTGAGE  person_home_ownership_OTHER  \\\n",
       "12657                             1.0                          0.0   \n",
       "11611                             1.0                          0.0   \n",
       "18223                             0.0                          0.0   \n",
       "24772                             1.0                          0.0   \n",
       "30770                             1.0                          0.0   \n",
       "\n",
       "       person_home_ownership_OWN  person_home_ownership_RENT  \\\n",
       "12657                        0.0                         0.0   \n",
       "11611                        0.0                         0.0   \n",
       "18223                        0.0                         1.0   \n",
       "24772                        0.0                         0.0   \n",
       "30770                        0.0                         0.0   \n",
       "\n",
       "       loan_intent_DEBTCONSOLIDATION  loan_intent_EDUCATION  \\\n",
       "12657                            0.0                    0.0   \n",
       "11611                            0.0                    0.0   \n",
       "18223                            0.0                    0.0   \n",
       "24772                            0.0                    0.0   \n",
       "30770                            0.0                    1.0   \n",
       "\n",
       "       loan_intent_HOMEIMPROVEMENT  loan_intent_MEDICAL  loan_intent_PERSONAL  \\\n",
       "12657                          0.0                  1.0                   0.0   \n",
       "11611                          0.0                  1.0                   0.0   \n",
       "18223                          0.0                  1.0                   0.0   \n",
       "24772                          0.0                  0.0                   1.0   \n",
       "30770                          0.0                  0.0                   0.0   \n",
       "\n",
       "       loan_intent_VENTURE  loan_grade_A  loan_grade_B  loan_grade_C  \\\n",
       "12657                  0.0           1.0           0.0           0.0   \n",
       "11611                  0.0           0.0           1.0           0.0   \n",
       "18223                  0.0           0.0           0.0           0.0   \n",
       "24772                  0.0           0.0           1.0           0.0   \n",
       "30770                  0.0           0.0           0.0           1.0   \n",
       "\n",
       "       loan_grade_D  loan_grade_E  loan_grade_F  loan_grade_G  \\\n",
       "12657           0.0           0.0           0.0           0.0   \n",
       "11611           0.0           0.0           0.0           0.0   \n",
       "18223           1.0           0.0           0.0           0.0   \n",
       "24772           0.0           0.0           0.0           0.0   \n",
       "30770           0.0           0.0           0.0           0.0   \n",
       "\n",
       "       cb_person_default_on_file_N  cb_person_default_on_file_Y  \n",
       "12657                          1.0                          0.0  \n",
       "11611                          1.0                          0.0  \n",
       "18223                          1.0                          0.0  \n",
       "24772                          1.0                          0.0  \n",
       "30770                          0.0                          1.0  "
      ]
     },
     "execution_count": 28,
     "metadata": {},
     "output_type": "execute_result"
    }
   ],
   "source": [
    "X_train_trans.head()"
   ]
  },
  {
   "cell_type": "code",
   "execution_count": 29,
   "metadata": {},
   "outputs": [
    {
     "data": {
      "image/png": "[encoded data removed]",
      "text/plain": [
       "<Figure size 720x720 with 2 Axes>"
      ]
     },
     "metadata": {
      "needs_background": "light"
     },
     "output_type": "display_data"
    }
   ],
   "source": [
    "plot_correlation(X_train_trans)"
   ]
  },
  {
   "cell_type": "markdown",
   "metadata": {},
   "source": [
    "### Train Model"
   ]
  },
  {
   "cell_type": "code",
   "execution_count": 32,
   "metadata": {},
   "outputs": [
    {
     "data": {
      "text/plain": [
       "LogisticRegression(max_iter=1000, random_state=42)"
      ]
     },
     "execution_count": 32,
     "metadata": {},
     "output_type": "execute_result"
    }
   ],
   "source": [
    "lr = LogisticRegression(random_state=SEED, max_iter=1000)\n",
    "lr.fit(X_train_trans, y_train)"
   ]
  },
  {
   "cell_type": "code",
   "execution_count": 35,
   "metadata": {},
   "outputs": [],
   "source": [
    "yhat_train = lr.predict_proba(X_train_trans)[:, 1]\n",
    "yhat_test = lr.predict_proba(X_test_trans)[:, 1]"
   ]
  },
  {
   "cell_type": "markdown",
   "metadata": {},
   "source": [
    "# Base model"
   ]
  },
  {
   "cell_type": "code",
   "execution_count": 36,
   "metadata": {},
   "outputs": [
    {
     "name": "stdout",
     "output_type": "stream",
     "text": [
      "ROC-AUC Score Train: 0.7619865204907287\n",
      "ROC-AUC Score Test: 0.7601628525528354\n"
     ]
    }
   ],
   "source": [
    "print(\"ROC-AUC Score Train:\", roc_auc_score(y_train, yhat_train))\n",
    "print(\"ROC-AUC Score Test:\", roc_auc_score(y_test, yhat_test))"
   ]
  },
  {
   "cell_type": "code",
   "execution_count": 37,
   "metadata": {},
   "outputs": [],
   "source": [
    "# https://stackoverflow.com/questions/28719067/roc-curve-and-cut-off-point-python\n",
    "def get_optimal_cutoff(tpr, fpr, thresholds):\n",
    "    i = np.arange(len(tpr)) # index for df\n",
    "    roc = pd.DataFrame({\n",
    "        'fpr' : pd.Series(fpr, index=i),\n",
    "        'tpr' : pd.Series(tpr, index = i), \n",
    "        '1-fpr' : pd.Series(1-fpr, index = i), \n",
    "        'tf' : pd.Series(tpr - (1-fpr), index = i), \n",
    "        'thresholds' : pd.Series(thresholds, index = i)})\n",
    "    \n",
    "    print(roc.iloc[[(roc.tf-0).abs().argmin()]])\n",
    "\n",
    "    # Plot tpr vs 1-fpr\n",
    "    fig, ax = plt.subplots()\n",
    "    _ = plt.plot(roc['tpr'])\n",
    "    _ = plt.plot(roc['1-fpr'], color = 'red')\n",
    "    _ = plt.xlabel('1-False Positive Rate')\n",
    "    _ = plt.ylabel('True Positive Rate')\n",
    "    _ = plt.title('Receiver operating characteristic')\n",
    "    _ = ax.set_xticklabels([])\n",
    "    \n",
    "    \n",
    "def plot_roc_auc(tpr, fpr, labels):\n",
    "    \n",
    "    if (isinstance(tpr, (list, np.array)) and isinstance(fpr, (list, np.array))):\n",
    "        \n",
    "        nlist = len(tpr)\n",
    "        \n",
    "        if all(len(val) == nlist for val in [tpr, fpr, labels]):\n",
    "            pass\n",
    "        else:\n",
    "            raise ValueError('length of parameter should be the same')\n",
    "               \n",
    "        fig, ax = plt.subplots(figsize=(8, 6.5))\n",
    "        _ = sns.despine(ax=ax)\n",
    "        _ = ax.plot([0, 1], [0, 1], color='navy', linestyle='--')\n",
    "        _ = ax.set_xlim([0.0, 1.0])\n",
    "        _ = ax.set_ylim([0.0, 1.05])\n",
    "        _ = ax.set_xlabel('False Positive Rate')\n",
    "        _ = ax.set_ylabel('True Positive Rate')\n",
    "        _ = ax.set_title('Receiver operating characteristic example')\n",
    "        \n",
    "        for i in range(nlist):\n",
    "        \n",
    "            roc_auc = auc(fpr[i], tpr[i])\n",
    "            _ = ax.plot(\n",
    "                fpr[i], \n",
    "                tpr[i], \n",
    "                label=f'ROC curve {labels[i]} (area = {roc_auc: 0.2f}'\n",
    "            )\n",
    "        \n",
    "        _ = fig.legend(loc=\"right\")\n",
    "        \n",
    "    else:\n",
    "        roc_auc = auc(fpr, tpr)\n",
    "        \n",
    "        fig, ax = plt.subplots(figsize=(8, 6.5))\n",
    "        _ = sns.despine(ax=ax)\n",
    "        _ = ax.plot([0, 1], [0, 1], color='navy', linestyle='--')\n",
    "        _ = ax.set_xlim([0.0, 1.0])\n",
    "        _ = ax.set_ylim([0.0, 1.05])\n",
    "        _ = ax.set_xlabel('False Positive Rate')\n",
    "        _ = ax.set_ylabel('True Positive Rate')\n",
    "        _ = ax.set_title('Receiver operating characteristic example')\n",
    "        _ = ax.plot(\n",
    "            fpr, \n",
    "            tpr, \n",
    "            label=f'ROC curve {labels} (area = {roc_auc: 0.2f}'\n",
    "        )\n",
    "        \n",
    "    _ = fig.legend(loc=\"right\")"
   ]
  },
  {
   "cell_type": "code",
   "execution_count": 38,
   "metadata": {},
   "outputs": [
    {
     "name": "stdout",
     "output_type": "stream",
     "text": [
      "ROC-AUC TRAIN 0.7619865204907287\n",
      "ROC-AUC TEST 0.7601628525528354\n"
     ]
    }
   ],
   "source": [
    "fpr_train, tpr_train, thresholds_train =roc_curve(y_train, \n",
    "                                                  yhat_train)\n",
    "fpr_test, tpr_test, thresholds_test =roc_curve(y_test, \n",
    "                                               yhat_test)\n",
    "\n",
    "roc_auc_train = auc(fpr_train, tpr_train)\n",
    "roc_auc_test = auc(fpr_test, tpr_test)\n",
    "\n",
    "print(\"ROC-AUC TRAIN\", roc_auc_train)\n",
    "print(\"ROC-AUC TEST\", roc_auc_test)"
   ]
  },
  {
   "cell_type": "code",
   "execution_count": 39,
   "metadata": {},
   "outputs": [
    {
     "name": "stdout",
     "output_type": "stream",
     "text": [
      "           fpr       tpr     1-fpr        tf  thresholds\n",
      "1337  0.314068  0.685939  0.685932  0.000007    0.266055\n"
     ]
    },
    {
     "data": {
      "image/png": "[encoded data removed]",
      "text/plain": [
       "<Figure size 432x288 with 1 Axes>"
      ]
     },
     "metadata": {
      "needs_background": "light"
     },
     "output_type": "display_data"
    }
   ],
   "source": [
    "tpr = tpr_test\n",
    "fpr = fpr_test\n",
    "\n",
    "thresholds = thresholds_test\n",
    "get_optimal_cutoff(tpr, fpr, thresholds)"
   ]
  },
  {
   "cell_type": "code",
   "execution_count": 40,
   "metadata": {},
   "outputs": [
    {
     "name": "stdout",
     "output_type": "stream",
     "text": [
      "              precision    recall  f1-score   support\n",
      "\n",
      "           0       0.88      0.71      0.79      7613\n",
      "           1       0.40      0.67      0.50      2162\n",
      "\n",
      "    accuracy                           0.70      9775\n",
      "   macro avg       0.64      0.69      0.64      9775\n",
      "weighted avg       0.78      0.70      0.73      9775\n",
      "\n"
     ]
    }
   ],
   "source": [
    "threshold = 0.5\n",
    "\n",
    "y_pred_train = np.where(yhat_train > 0.276966, 1, 0)\n",
    "y_pred_test = np.where(yhat_test> 0.276966, 1, 0)\n",
    "\n",
    "print(classification_report(y_test, \n",
    "                            y_pred_test))"
   ]
  },
  {
   "cell_type": "markdown",
   "metadata": {},
   "source": [
    "## Model Validation: Cross Validation"
   ]
  },
  {
   "cell_type": "code",
   "execution_count": 41,
   "metadata": {},
   "outputs": [
    {
     "name": "stdout",
     "output_type": "stream",
     "text": [
      "Fold:  1, Class dist.: [13363  3741], Acc: 0.753\n",
      "Fold:  2, Class dist.: [13385  3719], Acc: 0.768\n",
      "Fold:  3, Class dist.: [13395  3710], Acc: 0.758\n",
      "Fold:  4, Class dist.: [13437  3668], Acc: 0.798\n",
      "CV accuracy: 0.770 +/- 0.018\n"
     ]
    }
   ],
   "source": [
    "#Defining Kfold\n",
    "kfold = KFold(n_splits=4, shuffle=True, random_state=SEED).split(X_train_trans, y_train)\n",
    "\n",
    "#Defining the model\n",
    "lr = LogisticRegression(random_state=SEED, C=5, max_iter=1000) # try to change C\n",
    "\n",
    "#Initialize empty list for the scores\n",
    "scores = []\n",
    "\n",
    "#Loop the kfold\n",
    "for k, (train, test) in enumerate(kfold):\n",
    "    lr.fit(X_train_trans.iloc[train], y_train.iloc[train])\n",
    "    \n",
    "    yhat = lr.predict_proba(X_train_trans.iloc[test])[:, 1]\n",
    "    score = roc_auc_score(y_train.iloc[test], yhat)\n",
    "    scores.append(score)\n",
    "    print('Fold: %2d, Class dist.: %s, Acc: %.3f' % (k+1,np.bincount(y_train.iloc[train]), score))\n",
    "print('CV accuracy: %.3f +/- %.3f' % (np.mean(scores), np.std(scores)))"
   ]
  },
  {
   "cell_type": "code",
   "execution_count": 42,
   "metadata": {},
   "outputs": [
    {
     "name": "stdout",
     "output_type": "stream",
     "text": [
      "Fold:  1, Class dist.: [13395  3709], Acc: 0.791\n",
      "Fold:  2, Class dist.: [13395  3709], Acc: 0.757\n",
      "Fold:  3, Class dist.: [13395  3710], Acc: 0.760\n",
      "Fold:  4, Class dist.: [13395  3710], Acc: 0.758\n",
      "CV accuracy: 0.766 +/- 0.014\n"
     ]
    }
   ],
   "source": [
    "#Defining Kfold\n",
    "skfold = StratifiedKFold(n_splits=4, shuffle=True, random_state=SEED).split(X_train_trans, y_train)\n",
    "\n",
    "#Defining the model\n",
    "lr = LogisticRegression(random_state=SEED, max_iter=1000)\n",
    "\n",
    "#Initialize empty list for the scores\n",
    "scores = []\n",
    "\n",
    "#Loop the kfold\n",
    "for k, (train, test) in enumerate(skfold):\n",
    "    lr.fit(X_train_trans.iloc[train], y_train.iloc[train])\n",
    "    \n",
    "    yhat = lr.predict_proba(X_train_trans.iloc[test])[:, 1]\n",
    "    score = roc_auc_score(y_train.iloc[test], yhat)\n",
    "    scores.append(score)\n",
    "    print('Fold: %2d, Class dist.: %s, Acc: %.3f' % (k+1,np.bincount(y_train.iloc[train]), score))\n",
    "print('CV accuracy: %.3f +/- %.3f' % (np.mean(scores), np.std(scores)))"
   ]
  },
  {
   "cell_type": "markdown",
   "metadata": {},
   "source": [
    "## Hyperparameter Tuning"
   ]
  },
  {
   "cell_type": "markdown",
   "metadata": {},
   "source": [
    "### Simple Hyperparameter Tuning - GridSearchCV"
   ]
  },
  {
   "cell_type": "code",
   "execution_count": 43,
   "metadata": {},
   "outputs": [],
   "source": [
    "lr = LogisticRegression(random_state=SEED)\n",
    "\n",
    "param_space = {\n",
    "    \"C\": [0.0001, 0.001, 0.01, 0.1, 1, 10, 100, 1000],\n",
    "    \"max_iter\": [1000],\n",
    "    \"random_state\": [SEED]\n",
    "}\n",
    "\n",
    "clf = GridSearchCV(lr, \n",
    "                   param_space, \n",
    "                   scoring='roc_auc', \n",
    "                   cv=4, \n",
    "                   refit=True)"
   ]
  },
  {
   "cell_type": "code",
   "execution_count": 44,
   "metadata": {},
   "outputs": [
    {
     "data": {
      "text/plain": [
       "GridSearchCV(cv=4, estimator=LogisticRegression(random_state=42),\n",
       "             param_grid={'C': [0.0001, 0.001, 0.01, 0.1, 1, 10, 100, 1000],\n",
       "                         'max_iter': [1000], 'random_state': [42]},\n",
       "             scoring='roc_auc')"
      ]
     },
     "execution_count": 44,
     "metadata": {},
     "output_type": "execute_result"
    }
   ],
   "source": [
    "clf.fit(X_train_trans, y_train)"
   ]
  },
  {
   "cell_type": "code",
   "execution_count": 45,
   "metadata": {},
   "outputs": [
    {
     "name": "stdout",
     "output_type": "stream",
     "text": [
      "ROC-AUC TRAIN 0.7619865204907287\n",
      "ROC-AUC TEST 0.7601628525528354\n"
     ]
    }
   ],
   "source": [
    "fpr_train, tpr_train, thresholds_train =roc_curve(y_train, \n",
    "                                                  yhat_train)\n",
    "fpr_test, tpr_test, thresholds_test =roc_curve(y_test, \n",
    "                                               yhat_test)\n",
    "\n",
    "roc_auc_train = auc(fpr_train, tpr_train)\n",
    "roc_auc_test = auc(fpr_test, tpr_test)\n",
    "\n",
    "print(\"ROC-AUC TRAIN\", roc_auc_train)\n",
    "print(\"ROC-AUC TEST\", roc_auc_test)"
   ]
  },
  {
   "cell_type": "markdown",
   "metadata": {},
   "source": [
    "# Pipeline"
   ]
  },
  {
   "cell_type": "markdown",
   "metadata": {},
   "source": [
    "### Implement data preprocess to pipeline"
   ]
  },
  {
   "cell_type": "code",
   "execution_count": 46,
   "metadata": {},
   "outputs": [
    {
     "data": {
      "text/plain": [
       "ColumnTransformer(remainder='passthrough',\n",
       "                  transformers=[('cat',\n",
       "                                 Pipeline(steps=[('imputer',\n",
       "                                                  SimpleImputer(fill_value='missing',\n",
       "                                                                strategy='constant')),\n",
       "                                                 ('ohe',\n",
       "                                                  OneHotEncoder(drop='first'))]),\n",
       "                                 ['person_home_ownership', 'loan_intent',\n",
       "                                  'loan_grade', 'cb_person_default_on_file']),\n",
       "                                ('num',\n",
       "                                 Pipeline(steps=[('scaler', StandardScaler())]),\n",
       "                                 ['person_age', 'person_income',\n",
       "                                  'person_emp_length', 'loan_amnt',\n",
       "                                  'loan_int_rate', 'loan_percent_income',\n",
       "                                  'cb_person_cred_hist_length'])])"
      ]
     },
     "execution_count": 46,
     "metadata": {},
     "output_type": "execute_result"
    }
   ],
   "source": [
    "cat_pipe = Pipeline(steps=[\n",
    "    ('imputer', SimpleImputer(strategy=\"constant\", fill_value=\"missing\")),\n",
    "    ('ohe', OneHotEncoder(drop=\"first\"))\n",
    "])\n",
    "\n",
    "num_pipe = Pipeline(steps=[\n",
    "    ('scaler', StandardScaler())\n",
    "])\n",
    "\n",
    "preprocess = ColumnTransformer(\n",
    "    transformers=[\n",
    "    ('cat', cat_pipe, cat_columns),\n",
    "    ('num', num_pipe, num_columns)\n",
    "], remainder='passthrough')\n",
    "\n",
    "preprocess.fit(X_train)"
   ]
  },
  {
   "cell_type": "code",
   "execution_count": 47,
   "metadata": {},
   "outputs": [],
   "source": [
    "ohe_columns = preprocess.named_transformers_['cat'].named_steps['ohe'].get_feature_names(cat_columns)\n",
    "\n",
    "final_features = []\n",
    "final_features.extend(ohe_columns)\n",
    "final_features.extend(num_columns)"
   ]
  },
  {
   "cell_type": "code",
   "execution_count": 48,
   "metadata": {},
   "outputs": [],
   "source": [
    "X_train_trans = pd.DataFrame(preprocess.transform(X_train), columns=final_features)\n",
    "X_test_trans = pd.DataFrame(preprocess.transform(X_test), columns=final_features)"
   ]
  },
  {
   "cell_type": "code",
   "execution_count": 49,
   "metadata": {},
   "outputs": [
    {
     "data": {
      "text/plain": [
       "LogisticRegression(max_iter=1000, random_state=42)"
      ]
     },
     "execution_count": 49,
     "metadata": {},
     "output_type": "execute_result"
    }
   ],
   "source": [
    "lr = LogisticRegression(random_state=SEED, max_iter=1000)\n",
    "lr.fit(X_train_trans, y_train)"
   ]
  },
  {
   "cell_type": "code",
   "execution_count": 50,
   "metadata": {},
   "outputs": [],
   "source": [
    "yhat_train = lr.predict_proba(X_train_trans)[:, 1]\n",
    "yhat_test = lr.predict_proba(X_test_trans)[:, 1]"
   ]
  },
  {
   "cell_type": "code",
   "execution_count": 51,
   "metadata": {},
   "outputs": [
    {
     "name": "stdout",
     "output_type": "stream",
     "text": [
      "ROC-AUC TRAIN 0.8690962507058313\n",
      "ROC-AUC TEST 0.8721478900750737\n"
     ]
    }
   ],
   "source": [
    "fpr_train, tpr_train, thresholds_train =roc_curve(y_train, \n",
    "                                                  yhat_train)\n",
    "fpr_test, tpr_test, thresholds_test =roc_curve(y_test, \n",
    "                                               yhat_test)\n",
    "\n",
    "roc_auc_train = auc(fpr_train, tpr_train)\n",
    "roc_auc_test = auc(fpr_test, tpr_test)\n",
    "\n",
    "print(\"ROC-AUC TRAIN\", roc_auc_train)\n",
    "print(\"ROC-AUC TEST\", roc_auc_test)"
   ]
  },
  {
   "cell_type": "markdown",
   "metadata": {},
   "source": [
    "### Full Pipeline"
   ]
  },
  {
   "cell_type": "code",
   "execution_count": 52,
   "metadata": {},
   "outputs": [],
   "source": [
    "cat_pipe = Pipeline(steps=[\n",
    "    ('imputer', SimpleImputer(strategy=\"constant\", fill_value=\"missing\")),\n",
    "    ('ohe', OneHotEncoder(drop=\"first\"))\n",
    "])\n",
    "\n",
    "num_pipe = Pipeline(steps=[\n",
    "    ('scaler', StandardScaler())\n",
    "])\n",
    "\n",
    "preprocess = ColumnTransformer(transformers=[\n",
    "    ('cat', cat_pipe, cat_columns),\n",
    "    ('num', num_pipe, num_columns)\n",
    "], remainder='passthrough')\n",
    "\n",
    "\n",
    "full_pipe = Pipeline(steps=[\n",
    "    ('preprocess', preprocess),\n",
    "    ('model', LogisticRegression(random_state=SEED, max_iter=1000))\n",
    "])"
   ]
  },
  {
   "cell_type": "code",
   "execution_count": 53,
   "metadata": {},
   "outputs": [
    {
     "data": {
      "text/plain": [
       "Pipeline(steps=[('preprocess',\n",
       "                 ColumnTransformer(remainder='passthrough',\n",
       "                                   transformers=[('cat',\n",
       "                                                  Pipeline(steps=[('imputer',\n",
       "                                                                   SimpleImputer(fill_value='missing',\n",
       "                                                                                 strategy='constant')),\n",
       "                                                                  ('ohe',\n",
       "                                                                   OneHotEncoder(drop='first'))]),\n",
       "                                                  ['person_home_ownership',\n",
       "                                                   'loan_intent', 'loan_grade',\n",
       "                                                   'cb_person_default_on_file']),\n",
       "                                                 ('num',\n",
       "                                                  Pipeline(steps=[('scaler',\n",
       "                                                                   StandardScaler())]),\n",
       "                                                  ['person_age',\n",
       "                                                   'person_income',\n",
       "                                                   'person_emp_length',\n",
       "                                                   'loan_amnt', 'loan_int_rate',\n",
       "                                                   'loan_percent_income',\n",
       "                                                   'cb_person_cred_hist_length'])])),\n",
       "                ('model', LogisticRegression(max_iter=1000, random_state=42))])"
      ]
     },
     "execution_count": 53,
     "metadata": {},
     "output_type": "execute_result"
    }
   ],
   "source": [
    "full_pipe.fit(X_train, y_train)"
   ]
  },
  {
   "cell_type": "code",
   "execution_count": 54,
   "metadata": {},
   "outputs": [
    {
     "name": "stdout",
     "output_type": "stream",
     "text": [
      "ROC-AUC TRAIN 0.8690962507058313\n",
      "ROC-AUC TEST 0.8721478900750737\n"
     ]
    }
   ],
   "source": [
    "yhat_train = full_pipe.predict_proba(X_train)[:, 1]\n",
    "yhat_test = full_pipe.predict_proba(X_test)[:, 1]\n",
    "\n",
    "fpr_train, tpr_train, thresholds_train =roc_curve(y_train, \n",
    "                                                  yhat_train)\n",
    "fpr_test, tpr_test, thresholds_test =roc_curve(y_test, \n",
    "                                               yhat_test)\n",
    "\n",
    "roc_auc_train = auc(fpr_train, tpr_train)\n",
    "roc_auc_test = auc(fpr_test, tpr_test)\n",
    "\n",
    "print(\"ROC-AUC TRAIN\", roc_auc_train)\n",
    "print(\"ROC-AUC TEST\", roc_auc_test)"
   ]
  },
  {
   "cell_type": "markdown",
   "metadata": {},
   "source": [
    "### Hyperparameter Tuning with Pipeline - GridSearchCV"
   ]
  },
  {
   "cell_type": "code",
   "execution_count": 55,
   "metadata": {},
   "outputs": [],
   "source": [
    "cat_pipe = Pipeline(steps=[\n",
    "    ('imputer', SimpleImputer(strategy=\"constant\", fill_value=\"missing\")),\n",
    "    ('ohe', OneHotEncoder(drop=\"first\"))\n",
    "])\n",
    "\n",
    "num_pipe = Pipeline(steps=[\n",
    "    ('scaler', StandardScaler())\n",
    "])\n",
    "\n",
    "preprocess = ColumnTransformer(transformers=[\n",
    "    ('cat', cat_pipe, cat_columns),\n",
    "    ('num', num_pipe, num_columns)\n",
    "], remainder='passthrough')\n",
    "\n",
    "\n",
    "full_pipe = Pipeline(steps=[\n",
    "    ('preprocess', preprocess),\n",
    "    ('model', LogisticRegression(random_state=SEED, max_iter=1000))\n",
    "])"
   ]
  },
  {
   "cell_type": "code",
   "execution_count": 56,
   "metadata": {},
   "outputs": [],
   "source": [
    "param_space = {\n",
    "    \"model__C\": [0.0001, 0.001, 0.01, 0.1, 2, 1, 3, 4, 5, 10, 100, 1000],\n",
    "    \"model__max_iter\": [1000],\n",
    "    \"model__random_state\": [SEED]\n",
    "}\n",
    "\n",
    "clf = GridSearchCV(full_pipe, \n",
    "                   param_space, \n",
    "                   scoring='roc_auc', \n",
    "                   cv=5, \n",
    "                   refit=True)"
   ]
  },
  {
   "cell_type": "code",
   "execution_count": 57,
   "metadata": {},
   "outputs": [
    {
     "data": {
      "text/plain": [
       "GridSearchCV(cv=5,\n",
       "             estimator=Pipeline(steps=[('preprocess',\n",
       "                                        ColumnTransformer(remainder='passthrough',\n",
       "                                                          transformers=[('cat',\n",
       "                                                                         Pipeline(steps=[('imputer',\n",
       "                                                                                          SimpleImputer(fill_value='missing',\n",
       "                                                                                                        strategy='constant')),\n",
       "                                                                                         ('ohe',\n",
       "                                                                                          OneHotEncoder(drop='first'))]),\n",
       "                                                                         ['person_home_ownership',\n",
       "                                                                          'loan_intent',\n",
       "                                                                          'loan_grade',\n",
       "                                                                          'cb_person_default_on_file']),\n",
       "                                                                        ('num',\n",
       "                                                                         Pipeline(steps=[('...\n",
       "                                                                                          StandardScaler())]),\n",
       "                                                                         ['person_age',\n",
       "                                                                          'person_income',\n",
       "                                                                          'person_emp_length',\n",
       "                                                                          'loan_amnt',\n",
       "                                                                          'loan_int_rate',\n",
       "                                                                          'loan_percent_income',\n",
       "                                                                          'cb_person_cred_hist_length'])])),\n",
       "                                       ('model',\n",
       "                                        LogisticRegression(max_iter=1000,\n",
       "                                                           random_state=42))]),\n",
       "             param_grid={'model__C': [0.0001, 0.001, 0.01, 0.1, 2, 1, 3, 4, 5,\n",
       "                                      10, 100, 1000],\n",
       "                         'model__max_iter': [1000],\n",
       "                         'model__random_state': [42]},\n",
       "             scoring='roc_auc')"
      ]
     },
     "execution_count": 57,
     "metadata": {},
     "output_type": "execute_result"
    }
   ],
   "source": [
    "clf.fit(X_train, y_train)"
   ]
  },
  {
   "cell_type": "code",
   "execution_count": 58,
   "metadata": {},
   "outputs": [
    {
     "data": {
      "text/plain": [
       "{'model__C': 3, 'model__max_iter': 1000, 'model__random_state': 42}"
      ]
     },
     "execution_count": 58,
     "metadata": {},
     "output_type": "execute_result"
    }
   ],
   "source": [
    "clf.best_params_"
   ]
  },
  {
   "cell_type": "code",
   "execution_count": 59,
   "metadata": {},
   "outputs": [
    {
     "data": {
      "text/plain": [
       "LogisticRegression(C=3, max_iter=1000, random_state=42)"
      ]
     },
     "execution_count": 59,
     "metadata": {},
     "output_type": "execute_result"
    }
   ],
   "source": [
    "clf.best_estimator_.named_steps['model']"
   ]
  },
  {
   "cell_type": "code",
   "execution_count": 60,
   "metadata": {},
   "outputs": [],
   "source": [
    "yhat_train = clf.predict_proba(X_train)[:, 1]\n",
    "yhat_test = clf.predict_proba(X_test)[:, 1]"
   ]
  },
  {
   "cell_type": "code",
   "execution_count": 61,
   "metadata": {},
   "outputs": [
    {
     "name": "stdout",
     "output_type": "stream",
     "text": [
      "ROC-AUC TRAIN 0.8691484380695612\n",
      "ROC-AUC TEST 0.8720164143008217\n"
     ]
    }
   ],
   "source": [
    "fpr_train, tpr_train, thresholds_train =roc_curve(y_train, \n",
    "                                                  yhat_train)\n",
    "fpr_test, tpr_test, thresholds_test =roc_curve(y_test, \n",
    "                                               yhat_test)\n",
    "\n",
    "roc_auc_train = auc(fpr_train, tpr_train)\n",
    "roc_auc_test = auc(fpr_test, tpr_test)\n",
    "\n",
    "print(\"ROC-AUC TRAIN\", roc_auc_train)\n",
    "print(\"ROC-AUC TEST\", roc_auc_test)"
   ]
  },
  {
   "cell_type": "code",
   "execution_count": 62,
   "metadata": {},
   "outputs": [
    {
     "name": "stdout",
     "output_type": "stream",
     "text": [
      "           fpr       tpr     1-fpr        tf  thresholds\n",
      "1156  0.205175  0.796022  0.794825  0.001198    0.197456\n"
     ]
    },
    {
     "data": {
      "image/png": "[encoded data removed]",
      "text/plain": [
       "<Figure size 432x288 with 1 Axes>"
      ]
     },
     "metadata": {
      "needs_background": "light"
     },
     "output_type": "display_data"
    }
   ],
   "source": [
    "tpr = tpr_test\n",
    "fpr = fpr_test\n",
    "\n",
    "thresholds = thresholds_test\n",
    "get_optimal_cutoff(tpr, fpr, thresholds)"
   ]
  },
  {
   "cell_type": "code",
   "execution_count": null,
   "metadata": {},
   "outputs": [],
   "source": [
    "threshold = 0.5\n",
    "\n",
    "y_pred_train = np.where(yhat_train > threshold, 1, 0)\n",
    "y_pred_test = np.where(yhat_test> threshold, 1, 0)\n",
    "\n",
    "print(classification_report(y_test, \n",
    "                            y_pred_test))"
   ]
  },
  {
   "cell_type": "code",
   "execution_count": 63,
   "metadata": {},
   "outputs": [
    {
     "name": "stdout",
     "output_type": "stream",
     "text": [
      "              precision    recall  f1-score   support\n",
      "\n",
      "           0       0.90      0.93      0.91      7613\n",
      "           1       0.71      0.64      0.68      2162\n",
      "\n",
      "    accuracy                           0.86      9775\n",
      "   macro avg       0.81      0.79      0.80      9775\n",
      "weighted avg       0.86      0.86      0.86      9775\n",
      "\n"
     ]
    }
   ],
   "source": [
    "threshold = 0.4\n",
    "\n",
    "y_pred_train = np.where(yhat_train > threshold, 1, 0)\n",
    "y_pred_test = np.where(yhat_test> threshold, 1, 0)\n",
    "\n",
    "print(classification_report(y_test, \n",
    "                            y_pred_test))"
   ]
  },
  {
   "cell_type": "code",
   "execution_count": 64,
   "metadata": {},
   "outputs": [],
   "source": [
    "X_train.loc[:, 'risk'] = y_train\n",
    "X_train.loc[:, 'score_proba'] = yhat_train\n",
    "X_test.loc[:, 'risk'] = y_test\n",
    "X_test.loc[:, 'score_proba'] = yhat_test"
   ]
  },
  {
   "cell_type": "code",
   "execution_count": 65,
   "metadata": {},
   "outputs": [
    {
     "data": {
      "text/html": [
       "<div>\n",
       "<style scoped>\n",
       "    .dataframe tbody tr th:only-of-type {\n",
       "        vertical-align: middle;\n",
       "    }\n",
       "\n",
       "    .dataframe tbody tr th {\n",
       "        vertical-align: top;\n",
       "    }\n",
       "\n",
       "    .dataframe thead th {\n",
       "        text-align: right;\n",
       "    }\n",
       "</style>\n",
       "<table border=\"1\" class=\"dataframe\">\n",
       "  <thead>\n",
       "    <tr style=\"text-align: right;\">\n",
       "      <th></th>\n",
       "      <th>person_age</th>\n",
       "      <th>person_income</th>\n",
       "      <th>person_home_ownership</th>\n",
       "      <th>person_emp_length</th>\n",
       "      <th>loan_intent</th>\n",
       "      <th>loan_grade</th>\n",
       "      <th>loan_amnt</th>\n",
       "      <th>loan_int_rate</th>\n",
       "      <th>loan_percent_income</th>\n",
       "      <th>cb_person_default_on_file</th>\n",
       "      <th>cb_person_cred_hist_length</th>\n",
       "      <th>risk</th>\n",
       "      <th>score_proba</th>\n",
       "    </tr>\n",
       "  </thead>\n",
       "  <tbody>\n",
       "    <tr>\n",
       "      <th>14668</th>\n",
       "      <td>24</td>\n",
       "      <td>28000</td>\n",
       "      <td>OWN</td>\n",
       "      <td>6.0</td>\n",
       "      <td>HOMEIMPROVEMENT</td>\n",
       "      <td>B</td>\n",
       "      <td>10000</td>\n",
       "      <td>10.37</td>\n",
       "      <td>0.36</td>\n",
       "      <td>N</td>\n",
       "      <td>2</td>\n",
       "      <td>0</td>\n",
       "      <td>0.209736</td>\n",
       "    </tr>\n",
       "    <tr>\n",
       "      <th>24614</th>\n",
       "      <td>27</td>\n",
       "      <td>64000</td>\n",
       "      <td>RENT</td>\n",
       "      <td>0.0</td>\n",
       "      <td>PERSONAL</td>\n",
       "      <td>C</td>\n",
       "      <td>10000</td>\n",
       "      <td>15.27</td>\n",
       "      <td>0.16</td>\n",
       "      <td>Y</td>\n",
       "      <td>10</td>\n",
       "      <td>0</td>\n",
       "      <td>0.190602</td>\n",
       "    </tr>\n",
       "    <tr>\n",
       "      <th>11096</th>\n",
       "      <td>26</td>\n",
       "      <td>72000</td>\n",
       "      <td>MORTGAGE</td>\n",
       "      <td>10.0</td>\n",
       "      <td>EDUCATION</td>\n",
       "      <td>D</td>\n",
       "      <td>16000</td>\n",
       "      <td>15.36</td>\n",
       "      <td>0.22</td>\n",
       "      <td>N</td>\n",
       "      <td>3</td>\n",
       "      <td>0</td>\n",
       "      <td>0.408570</td>\n",
       "    </tr>\n",
       "    <tr>\n",
       "      <th>10424</th>\n",
       "      <td>23</td>\n",
       "      <td>27996</td>\n",
       "      <td>RENT</td>\n",
       "      <td>7.0</td>\n",
       "      <td>DEBTCONSOLIDATION</td>\n",
       "      <td>A</td>\n",
       "      <td>10000</td>\n",
       "      <td>7.33</td>\n",
       "      <td>0.36</td>\n",
       "      <td>N</td>\n",
       "      <td>2</td>\n",
       "      <td>1</td>\n",
       "      <td>0.682999</td>\n",
       "    </tr>\n",
       "    <tr>\n",
       "      <th>26007</th>\n",
       "      <td>30</td>\n",
       "      <td>44500</td>\n",
       "      <td>RENT</td>\n",
       "      <td>2.0</td>\n",
       "      <td>MEDICAL</td>\n",
       "      <td>E</td>\n",
       "      <td>13000</td>\n",
       "      <td>16.32</td>\n",
       "      <td>0.29</td>\n",
       "      <td>N</td>\n",
       "      <td>6</td>\n",
       "      <td>1</td>\n",
       "      <td>0.930121</td>\n",
       "    </tr>\n",
       "  </tbody>\n",
       "</table>\n",
       "</div>"
      ],
      "text/plain": [
       "       person_age  person_income person_home_ownership  person_emp_length  \\\n",
       "14668          24          28000                   OWN                6.0   \n",
       "24614          27          64000                  RENT                0.0   \n",
       "11096          26          72000              MORTGAGE               10.0   \n",
       "10424          23          27996                  RENT                7.0   \n",
       "26007          30          44500                  RENT                2.0   \n",
       "\n",
       "             loan_intent loan_grade  loan_amnt  loan_int_rate  \\\n",
       "14668    HOMEIMPROVEMENT          B      10000          10.37   \n",
       "24614           PERSONAL          C      10000          15.27   \n",
       "11096          EDUCATION          D      16000          15.36   \n",
       "10424  DEBTCONSOLIDATION          A      10000           7.33   \n",
       "26007            MEDICAL          E      13000          16.32   \n",
       "\n",
       "       loan_percent_income cb_person_default_on_file  \\\n",
       "14668                 0.36                         N   \n",
       "24614                 0.16                         Y   \n",
       "11096                 0.22                         N   \n",
       "10424                 0.36                         N   \n",
       "26007                 0.29                         N   \n",
       "\n",
       "       cb_person_cred_hist_length  risk  score_proba  \n",
       "14668                           2     0     0.209736  \n",
       "24614                          10     0     0.190602  \n",
       "11096                           3     0     0.408570  \n",
       "10424                           2     1     0.682999  \n",
       "26007                           6     1     0.930121  "
      ]
     },
     "execution_count": 65,
     "metadata": {},
     "output_type": "execute_result"
    }
   ],
   "source": [
    "X_test.head()"
   ]
  },
  {
   "cell_type": "markdown",
   "metadata": {},
   "source": [
    "## Save Your Model"
   ]
  },
  {
   "cell_type": "code",
   "execution_count": 66,
   "metadata": {},
   "outputs": [],
   "source": [
    "import pickle \n",
    "\n",
    "MODELNAME = 'M-LR-1.0.0.pkl'\n",
    "PREPROCESSNAME = 'FE-SC-IMP-OHE-1.0.0.pkl'\n",
    "\n",
    "final_model = clf.best_estimator_.named_steps['model']\n",
    "final_pipe = clf.best_estimator_.named_steps['preprocess']\n",
    "\n",
    "with open(MODELNAME, 'wb') as f: # save model\n",
    "    pickle.dump(final_model, f)\n",
    "    \n",
    "with open(PREPROCESSNAME, 'wb') as f: # save pipeline\n",
    "    pickle.dump(final_pipe, f)"
   ]
  },
  {
   "cell_type": "code",
   "execution_count": 67,
   "metadata": {},
   "outputs": [],
   "source": [
    "X_train.to_csv('train.csv')\n",
    "X_test.to_csv('test.csv')"
   ]
  },
  {
   "cell_type": "code",
   "execution_count": 68,
   "metadata": {},
   "outputs": [
    {
     "data": {
      "text/html": [
       "<div>\n",
       "<style scoped>\n",
       "    .dataframe tbody tr th:only-of-type {\n",
       "        vertical-align: middle;\n",
       "    }\n",
       "\n",
       "    .dataframe tbody tr th {\n",
       "        vertical-align: top;\n",
       "    }\n",
       "\n",
       "    .dataframe thead th {\n",
       "        text-align: right;\n",
       "    }\n",
       "</style>\n",
       "<table border=\"1\" class=\"dataframe\">\n",
       "  <thead>\n",
       "    <tr style=\"text-align: right;\">\n",
       "      <th></th>\n",
       "      <th>mean_fit_time</th>\n",
       "      <th>std_fit_time</th>\n",
       "      <th>mean_score_time</th>\n",
       "      <th>std_score_time</th>\n",
       "      <th>param_model__C</th>\n",
       "      <th>param_model__max_iter</th>\n",
       "      <th>param_model__random_state</th>\n",
       "      <th>params</th>\n",
       "      <th>split0_test_score</th>\n",
       "      <th>split1_test_score</th>\n",
       "      <th>split2_test_score</th>\n",
       "      <th>split3_test_score</th>\n",
       "      <th>split4_test_score</th>\n",
       "      <th>mean_test_score</th>\n",
       "      <th>std_test_score</th>\n",
       "      <th>rank_test_score</th>\n",
       "    </tr>\n",
       "  </thead>\n",
       "  <tbody>\n",
       "    <tr>\n",
       "      <th>0</th>\n",
       "      <td>0.093501</td>\n",
       "      <td>0.008089</td>\n",
       "      <td>0.020936</td>\n",
       "      <td>0.001697</td>\n",
       "      <td>0.0001</td>\n",
       "      <td>1000</td>\n",
       "      <td>42</td>\n",
       "      <td>{'model__C': 0.0001, 'model__max_iter': 1000, ...</td>\n",
       "      <td>0.830564</td>\n",
       "      <td>0.833862</td>\n",
       "      <td>0.833816</td>\n",
       "      <td>0.834564</td>\n",
       "      <td>0.828470</td>\n",
       "      <td>0.832255</td>\n",
       "      <td>0.002347</td>\n",
       "      <td>12</td>\n",
       "    </tr>\n",
       "    <tr>\n",
       "      <th>1</th>\n",
       "      <td>0.111405</td>\n",
       "      <td>0.012699</td>\n",
       "      <td>0.026419</td>\n",
       "      <td>0.006118</td>\n",
       "      <td>0.001</td>\n",
       "      <td>1000</td>\n",
       "      <td>42</td>\n",
       "      <td>{'model__C': 0.001, 'model__max_iter': 1000, '...</td>\n",
       "      <td>0.854206</td>\n",
       "      <td>0.853193</td>\n",
       "      <td>0.855478</td>\n",
       "      <td>0.854292</td>\n",
       "      <td>0.848556</td>\n",
       "      <td>0.853145</td>\n",
       "      <td>0.002406</td>\n",
       "      <td>11</td>\n",
       "    </tr>\n",
       "    <tr>\n",
       "      <th>2</th>\n",
       "      <td>0.135105</td>\n",
       "      <td>0.012596</td>\n",
       "      <td>0.022549</td>\n",
       "      <td>0.001192</td>\n",
       "      <td>0.01</td>\n",
       "      <td>1000</td>\n",
       "      <td>42</td>\n",
       "      <td>{'model__C': 0.01, 'model__max_iter': 1000, 'm...</td>\n",
       "      <td>0.867986</td>\n",
       "      <td>0.865728</td>\n",
       "      <td>0.865960</td>\n",
       "      <td>0.866292</td>\n",
       "      <td>0.860773</td>\n",
       "      <td>0.865348</td>\n",
       "      <td>0.002421</td>\n",
       "      <td>10</td>\n",
       "    </tr>\n",
       "    <tr>\n",
       "      <th>3</th>\n",
       "      <td>0.195850</td>\n",
       "      <td>0.023581</td>\n",
       "      <td>0.022427</td>\n",
       "      <td>0.002218</td>\n",
       "      <td>0.1</td>\n",
       "      <td>1000</td>\n",
       "      <td>42</td>\n",
       "      <td>{'model__C': 0.1, 'model__max_iter': 1000, 'mo...</td>\n",
       "      <td>0.869583</td>\n",
       "      <td>0.867102</td>\n",
       "      <td>0.867801</td>\n",
       "      <td>0.867990</td>\n",
       "      <td>0.864344</td>\n",
       "      <td>0.867364</td>\n",
       "      <td>0.001714</td>\n",
       "      <td>9</td>\n",
       "    </tr>\n",
       "    <tr>\n",
       "      <th>4</th>\n",
       "      <td>0.278699</td>\n",
       "      <td>0.025944</td>\n",
       "      <td>0.022339</td>\n",
       "      <td>0.003320</td>\n",
       "      <td>2</td>\n",
       "      <td>1000</td>\n",
       "      <td>42</td>\n",
       "      <td>{'model__C': 2, 'model__max_iter': 1000, 'mode...</td>\n",
       "      <td>0.870392</td>\n",
       "      <td>0.866610</td>\n",
       "      <td>0.868660</td>\n",
       "      <td>0.868939</td>\n",
       "      <td>0.866295</td>\n",
       "      <td>0.868179</td>\n",
       "      <td>0.001531</td>\n",
       "      <td>4</td>\n",
       "    </tr>\n",
       "    <tr>\n",
       "      <th>5</th>\n",
       "      <td>0.253670</td>\n",
       "      <td>0.008653</td>\n",
       "      <td>0.021563</td>\n",
       "      <td>0.003172</td>\n",
       "      <td>1</td>\n",
       "      <td>1000</td>\n",
       "      <td>42</td>\n",
       "      <td>{'model__C': 1, 'model__max_iter': 1000, 'mode...</td>\n",
       "      <td>0.870302</td>\n",
       "      <td>0.866815</td>\n",
       "      <td>0.868640</td>\n",
       "      <td>0.868859</td>\n",
       "      <td>0.866082</td>\n",
       "      <td>0.868140</td>\n",
       "      <td>0.001512</td>\n",
       "      <td>8</td>\n",
       "    </tr>\n",
       "    <tr>\n",
       "      <th>6</th>\n",
       "      <td>0.271331</td>\n",
       "      <td>0.022372</td>\n",
       "      <td>0.020683</td>\n",
       "      <td>0.001862</td>\n",
       "      <td>3</td>\n",
       "      <td>1000</td>\n",
       "      <td>42</td>\n",
       "      <td>{'model__C': 3, 'model__max_iter': 1000, 'mode...</td>\n",
       "      <td>0.870420</td>\n",
       "      <td>0.866531</td>\n",
       "      <td>0.868662</td>\n",
       "      <td>0.868956</td>\n",
       "      <td>0.866384</td>\n",
       "      <td>0.868191</td>\n",
       "      <td>0.001536</td>\n",
       "      <td>1</td>\n",
       "    </tr>\n",
       "    <tr>\n",
       "      <th>7</th>\n",
       "      <td>0.332039</td>\n",
       "      <td>0.054050</td>\n",
       "      <td>0.029183</td>\n",
       "      <td>0.009143</td>\n",
       "      <td>4</td>\n",
       "      <td>1000</td>\n",
       "      <td>42</td>\n",
       "      <td>{'model__C': 4, 'model__max_iter': 1000, 'mode...</td>\n",
       "      <td>0.870440</td>\n",
       "      <td>0.866453</td>\n",
       "      <td>0.868652</td>\n",
       "      <td>0.868947</td>\n",
       "      <td>0.866423</td>\n",
       "      <td>0.868183</td>\n",
       "      <td>0.001548</td>\n",
       "      <td>3</td>\n",
       "    </tr>\n",
       "    <tr>\n",
       "      <th>8</th>\n",
       "      <td>0.279134</td>\n",
       "      <td>0.012386</td>\n",
       "      <td>0.021096</td>\n",
       "      <td>0.002966</td>\n",
       "      <td>5</td>\n",
       "      <td>1000</td>\n",
       "      <td>42</td>\n",
       "      <td>{'model__C': 5, 'model__max_iter': 1000, 'mode...</td>\n",
       "      <td>0.870459</td>\n",
       "      <td>0.866423</td>\n",
       "      <td>0.868642</td>\n",
       "      <td>0.868966</td>\n",
       "      <td>0.866441</td>\n",
       "      <td>0.868186</td>\n",
       "      <td>0.001558</td>\n",
       "      <td>2</td>\n",
       "    </tr>\n",
       "    <tr>\n",
       "      <th>9</th>\n",
       "      <td>0.306830</td>\n",
       "      <td>0.038157</td>\n",
       "      <td>0.024754</td>\n",
       "      <td>0.005142</td>\n",
       "      <td>10</td>\n",
       "      <td>1000</td>\n",
       "      <td>42</td>\n",
       "      <td>{'model__C': 10, 'model__max_iter': 1000, 'mod...</td>\n",
       "      <td>0.870486</td>\n",
       "      <td>0.866357</td>\n",
       "      <td>0.868625</td>\n",
       "      <td>0.868976</td>\n",
       "      <td>0.866445</td>\n",
       "      <td>0.868178</td>\n",
       "      <td>0.001580</td>\n",
       "      <td>5</td>\n",
       "    </tr>\n",
       "    <tr>\n",
       "      <th>10</th>\n",
       "      <td>0.309570</td>\n",
       "      <td>0.032235</td>\n",
       "      <td>0.024690</td>\n",
       "      <td>0.001493</td>\n",
       "      <td>100</td>\n",
       "      <td>1000</td>\n",
       "      <td>42</td>\n",
       "      <td>{'model__C': 100, 'model__max_iter': 1000, 'mo...</td>\n",
       "      <td>0.870477</td>\n",
       "      <td>0.866265</td>\n",
       "      <td>0.868608</td>\n",
       "      <td>0.868984</td>\n",
       "      <td>0.866480</td>\n",
       "      <td>0.868163</td>\n",
       "      <td>0.001591</td>\n",
       "      <td>7</td>\n",
       "    </tr>\n",
       "    <tr>\n",
       "      <th>11</th>\n",
       "      <td>0.383416</td>\n",
       "      <td>0.057956</td>\n",
       "      <td>0.025274</td>\n",
       "      <td>0.004103</td>\n",
       "      <td>1000</td>\n",
       "      <td>1000</td>\n",
       "      <td>42</td>\n",
       "      <td>{'model__C': 1000, 'model__max_iter': 1000, 'm...</td>\n",
       "      <td>0.870479</td>\n",
       "      <td>0.866258</td>\n",
       "      <td>0.868615</td>\n",
       "      <td>0.868982</td>\n",
       "      <td>0.866483</td>\n",
       "      <td>0.868163</td>\n",
       "      <td>0.001593</td>\n",
       "      <td>6</td>\n",
       "    </tr>\n",
       "  </tbody>\n",
       "</table>\n",
       "</div>"
      ],
      "text/plain": [
       "    mean_fit_time  std_fit_time  mean_score_time  std_score_time  \\\n",
       "0        0.093501      0.008089         0.020936        0.001697   \n",
       "1        0.111405      0.012699         0.026419        0.006118   \n",
       "2        0.135105      0.012596         0.022549        0.001192   \n",
       "3        0.195850      0.023581         0.022427        0.002218   \n",
       "4        0.278699      0.025944         0.022339        0.003320   \n",
       "5        0.253670      0.008653         0.021563        0.003172   \n",
       "6        0.271331      0.022372         0.020683        0.001862   \n",
       "7        0.332039      0.054050         0.029183        0.009143   \n",
       "8        0.279134      0.012386         0.021096        0.002966   \n",
       "9        0.306830      0.038157         0.024754        0.005142   \n",
       "10       0.309570      0.032235         0.024690        0.001493   \n",
       "11       0.383416      0.057956         0.025274        0.004103   \n",
       "\n",
       "   param_model__C param_model__max_iter param_model__random_state  \\\n",
       "0          0.0001                  1000                        42   \n",
       "1           0.001                  1000                        42   \n",
       "2            0.01                  1000                        42   \n",
       "3             0.1                  1000                        42   \n",
       "4               2                  1000                        42   \n",
       "5               1                  1000                        42   \n",
       "6               3                  1000                        42   \n",
       "7               4                  1000                        42   \n",
       "8               5                  1000                        42   \n",
       "9              10                  1000                        42   \n",
       "10            100                  1000                        42   \n",
       "11           1000                  1000                        42   \n",
       "\n",
       "                                               params  split0_test_score  \\\n",
       "0   {'model__C': 0.0001, 'model__max_iter': 1000, ...           0.830564   \n",
       "1   {'model__C': 0.001, 'model__max_iter': 1000, '...           0.854206   \n",
       "2   {'model__C': 0.01, 'model__max_iter': 1000, 'm...           0.867986   \n",
       "3   {'model__C': 0.1, 'model__max_iter': 1000, 'mo...           0.869583   \n",
       "4   {'model__C': 2, 'model__max_iter': 1000, 'mode...           0.870392   \n",
       "5   {'model__C': 1, 'model__max_iter': 1000, 'mode...           0.870302   \n",
       "6   {'model__C': 3, 'model__max_iter': 1000, 'mode...           0.870420   \n",
       "7   {'model__C': 4, 'model__max_iter': 1000, 'mode...           0.870440   \n",
       "8   {'model__C': 5, 'model__max_iter': 1000, 'mode...           0.870459   \n",
       "9   {'model__C': 10, 'model__max_iter': 1000, 'mod...           0.870486   \n",
       "10  {'model__C': 100, 'model__max_iter': 1000, 'mo...           0.870477   \n",
       "11  {'model__C': 1000, 'model__max_iter': 1000, 'm...           0.870479   \n",
       "\n",
       "    split1_test_score  split2_test_score  split3_test_score  \\\n",
       "0            0.833862           0.833816           0.834564   \n",
       "1            0.853193           0.855478           0.854292   \n",
       "2            0.865728           0.865960           0.866292   \n",
       "3            0.867102           0.867801           0.867990   \n",
       "4            0.866610           0.868660           0.868939   \n",
       "5            0.866815           0.868640           0.868859   \n",
       "6            0.866531           0.868662           0.868956   \n",
       "7            0.866453           0.868652           0.868947   \n",
       "8            0.866423           0.868642           0.868966   \n",
       "9            0.866357           0.868625           0.868976   \n",
       "10           0.866265           0.868608           0.868984   \n",
       "11           0.866258           0.868615           0.868982   \n",
       "\n",
       "    split4_test_score  mean_test_score  std_test_score  rank_test_score  \n",
       "0            0.828470         0.832255        0.002347               12  \n",
       "1            0.848556         0.853145        0.002406               11  \n",
       "2            0.860773         0.865348        0.002421               10  \n",
       "3            0.864344         0.867364        0.001714                9  \n",
       "4            0.866295         0.868179        0.001531                4  \n",
       "5            0.866082         0.868140        0.001512                8  \n",
       "6            0.866384         0.868191        0.001536                1  \n",
       "7            0.866423         0.868183        0.001548                3  \n",
       "8            0.866441         0.868186        0.001558                2  \n",
       "9            0.866445         0.868178        0.001580                5  \n",
       "10           0.866480         0.868163        0.001591                7  \n",
       "11           0.866483         0.868163        0.001593                6  "
      ]
     },
     "execution_count": 68,
     "metadata": {},
     "output_type": "execute_result"
    }
   ],
   "source": [
    "pd.DataFrame(clf.cv_results_)"
   ]
  },
  {
   "cell_type": "code",
   "execution_count": 70,
   "metadata": {},
   "outputs": [
    {
     "data": {
      "text/plain": [
       "[{'person_age': 26,\n",
       "  'person_income': 70000,\n",
       "  'person_home_ownership': 'RENT',\n",
       "  'person_emp_length': 2.0,\n",
       "  'loan_intent': 'DEBTCONSOLIDATION',\n",
       "  'loan_grade': 'B',\n",
       "  'loan_amnt': 10000,\n",
       "  'loan_int_rate': 9.45,\n",
       "  'loan_percent_income': 0.14,\n",
       "  'cb_person_default_on_file': 'N',\n",
       "  'cb_person_cred_hist_length': 3,\n",
       "  'risk': 0,\n",
       "  'score_proba': 0.14392983630375794}]"
      ]
     },
     "execution_count": 70,
     "metadata": {},
     "output_type": "execute_result"
    }
   ],
   "source": [
    "X_train.sample(1).to_dict(orient='records')"
   ]
  },
  {
   "cell_type": "code",
   "execution_count": null,
   "metadata": {},
   "outputs": [],
   "source": []
  }
 ],
 "metadata": {
  "kernelspec": {
   "display_name": "Python 3",
   "language": "python",
   "name": "python3"
  },
  "language_info": {
   "codemirror_mode": {
    "name": "ipython",
    "version": 3
   },
   "file_extension": ".py",
   "mimetype": "text/x-python",
   "name": "python",
   "nbconvert_exporter": "python",
   "pygments_lexer": "ipython3",
   "version": "3.8.8"
  }
 },
 "nbformat": 4,
 "nbformat_minor": 2
}
